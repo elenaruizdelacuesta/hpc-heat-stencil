{
 "cells": [
  {
   "cell_type": "code",
   "execution_count": null,
   "id": "349ba231",
   "metadata": {},
   "outputs": [
    {
     "ename": "",
     "evalue": "",
     "output_type": "error",
     "traceback": [
      "\u001b[1;31mRunning cells with 'Python 3.10.12' requires the ipykernel package.\n",
      "\u001b[1;31mInstall 'ipykernel' into the Python environment. \n",
      "\u001b[1;31mCommand: '/bin/python3 -m pip install ipykernel -U --user --force-reinstall'"
     ]
    }
   ],
   "source": [
    "import pandas as pd\n",
    "import matplotlib.pyplot as plt\n",
    "\n",
    "# Cargar tu CSV\n",
    "df = pd.read_csv(\"output/thread_scaling.csv\")\n",
    "\n",
    "# Ordenar por número de threads\n",
    "df_sorted = df.sort_values(\"OMP_THREADS\").reset_index(drop=True)\n",
    "\n",
    "# Gráfica de tiempo total\n",
    "plt.figure(figsize=(8,5))\n",
    "plt.plot(df_sorted[\"OMP_THREADS\"], df_sorted[\"Max_total_time\"], marker=\"o\", label=\"Measured\")\n",
    "plt.xlabel(\"Number of Threads\")\n",
    "plt.ylabel(\"Total Time (s)\")\n",
    "plt.title(\"Thread Scaling Performance\")\n",
    "plt.grid(True)\n",
    "plt.xticks(df_sorted[\"OMP_THREADS\"])\n",
    "plt.legend()\n",
    "plt.show()\n",
    "\n",
    "# Gráfica de speedup\n",
    "serial_time = df_sorted[\"Max_total_time\"].iloc[0]  # tiempo con 1 hilo\n",
    "speedup = serial_time / df_sorted[\"Max_total_time\"]\n",
    "\n",
    "plt.figure(figsize=(8,5))\n",
    "plt.plot(df_sorted[\"OMP_THREADS\"], df_sorted[\"OMP_THREADS\"], 'r--', label='Ideal')\n",
    "plt.plot(df_sorted[\"OMP_THREADS\"], speedup, marker=\"o\", label=\"Measured\")\n",
    "plt.xlabel(\"Number of Threads\")\n",
    "plt.ylabel(\"Speedup\")\n",
    "plt.title(\"Thread Scaling Performance\")\n",
    "plt.grid(True)\n",
    "plt.legend()\n",
    "plt.show()\n"
   ]
  }
 ],
 "metadata": {
  "kernelspec": {
   "display_name": "Python 3",
   "language": "python",
   "name": "python3"
  },
  "language_info": {
   "name": "python",
   "version": "3.10.12"
  }
 },
 "nbformat": 4,
 "nbformat_minor": 5
}
